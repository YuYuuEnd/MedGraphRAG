{
 "cells": [
  {
   "cell_type": "markdown",
   "metadata": {},
   "source": [
    "DOCS: heart failure condition a serious medical condition where the heart can't pump enough blood The relationship between Query 1 and Query 2 is that Query 1 is a conceptual foundation for Query 2, as dysfunction concept (Query 1) leads to a specific condition (heart failure, Query 2). dysfunction concept a condition where the heart is unable to perform its normal functions\n",
    "\n",
    "Cardiac Function and Dysfunction subject a topic related to the study of heart function and disease Here is a concise sentence describing the relationship between Query 1 and Query 2:\n",
    "\n",
    "\"Query 1 is a foundational concept that underlies Query 2, which specifically describes one of its manifestations.\"\n",
    "\n",
    "In other words, cardiac function and dysfunction are broader topics that encompass heart failure, which is a clinical syndrome described in more detail in Query 2. heart failure condition a clinical syndrome that affects the heart's ability to pump enough blood, leading to significant impact on prognosis, lifestyle, morbidity, and mortality.\n",
    "\n",
    "chamber enlargement symptom an increase in size of one or more chambers within the heart, often a sign of heart failure Query 1 describes a general concept of \"heart failure\", while Query 2 is a specific symptom that may be associated with heart failure.\n",
    "\n",
    "The relationship between the two queries can be stated as: \"Heart failure is often characterized by chamber enlargement\". heart failure condition a serious medical condition where the heart can't pump enough blood\n",
    "\n",
    "myocardial dysfunction symptom the decline in the ability of the heart to function properly, often leading to heart failure Query 1 and Query 2 are synonyms.    \n",
    "\n",
    "In other words, they describe the same concept: a condition where the heart is unable to pump enough blood. heart failure condition a medical condition where the heart is unable to pump enough blood\n",
    "RESPONSE:Based on the provided documents, here's a concise answer:\n",
    "\n",
    "\"As a doctor, my primary concern would be to stabilize the infant and ensure adequate oxygenation. I would:\n",
    "\n",
    "1. Administer medications to reduce fluid overload and alleviate symptoms.\n",
    "2. Monitor the infant's vital signs closely, including heart rate, blood pressure, and oxygen saturation.\n",
    "3. Use non-invasive ventilation or other supportive measures to facilitate breathing.\n",
    "4. Assess for chamber enlargement and myocardial dysfunction through echocardiography or other diagnostic tools.\n",
    "5. Consider hospitalization for close monitoring and further treatment, if necessary.\n",
    "\n",
    "Prevention is key, so I would also advise parents on measures to reduce the risk of heart failure in infants, such as maintaining a healthy lifestyle during pregnancy and ensuring timely medical check-ups.\"\n",
    "\n",
    "This response is based on the understanding that myocardial dysfunction and heart failure are synonymous conditions in infants, where the heart fails to pump enough blood due to various factors."
   ]
  },
  {
   "cell_type": "code",
   "execution_count": 1,
   "metadata": {},
   "outputs": [],
   "source": [
    "from GraphRAG import GraphRAG"
   ]
  },
  {
   "cell_type": "code",
   "execution_count": 23,
   "metadata": {},
   "outputs": [],
   "source": [
    "rag = GraphRAG(\n",
    "    uri      = \"neo4j+s://cc94cc74.databases.neo4j.io\",\n",
    "    user     = \"neo4j\",\n",
    "    password = \"cD4ALjvgZ-uhvbQHs2dpYOCHVMQwws_TMcqENgnIKcw\"\n",
    ")"
   ]
  },
  {
   "cell_type": "code",
   "execution_count": null,
   "metadata": {},
   "outputs": [],
   "source": [
    "file_path = r\"C:\\Users\\This PC\\Downloads\\Atlas of HEART FAILURE _ Cardiac Function and Dysfunction -- Arnold M_ Katz (auth_), Wilson S_ Colucci MD (eds_) -- Softcover reprint of the original -- 9781475745580 -- 5bec97274a4e43ffe879a28356cddf22 -- Anna’s.pdf\""
   ]
  },
  {
   "cell_type": "code",
   "execution_count": 31,
   "metadata": {},
   "outputs": [],
   "source": [
    "import importlib\n",
    "import GraphRAG\n",
    "importlib.reload(GraphRAG)\n",
    "from GraphRAG import GraphRAG"
   ]
  },
  {
   "cell_type": "code",
   "execution_count": 32,
   "metadata": {},
   "outputs": [],
   "source": [
    "rag = GraphRAG()"
   ]
  },
  {
   "cell_type": "code",
   "execution_count": 33,
   "metadata": {},
   "outputs": [],
   "source": [
    "node_path = r\"E:\\Yuu\\an\\YuE\\N1_nodes.json\"\n",
    "edge_path = r\"E:\\Yuu\\an\\YuE\\N1_edges.json\""
   ]
  },
  {
   "cell_type": "code",
   "execution_count": 34,
   "metadata": {},
   "outputs": [],
   "source": [
    "import importlib\n",
    "from data_loader import *\n",
    "import utils\n",
    "importlib.reload(utils)\n",
    "from utils import *"
   ]
  },
  {
   "cell_type": "code",
   "execution_count": 10,
   "metadata": {},
   "outputs": [
    {
     "name": "stderr",
     "output_type": "stream",
     "text": [
      "Merging Node: 100%|██████████| 3402/3402 [03:09<00:00, 17.95it/s]"
     ]
    },
    {
     "name": "stdout",
     "output_type": "stream",
     "text": [
      "n Nodes: 3402 -> 1802\n"
     ]
    },
    {
     "name": "stderr",
     "output_type": "stream",
     "text": [
      "\n"
     ]
    }
   ],
   "source": [
    "entities = load_from_json(node_path)\n",
    "entities = merge_similar_nodes(entities, threshold=0.75)"
   ]
  },
  {
   "cell_type": "code",
   "execution_count": 11,
   "metadata": {},
   "outputs": [],
   "source": [
    "load_to_json(node_path, entities)"
   ]
  },
  {
   "cell_type": "code",
   "execution_count": 24,
   "metadata": {},
   "outputs": [
    {
     "name": "stderr",
     "output_type": "stream",
     "text": [
      "Uploading nodes: 100%|██████████| 29/29 [00:05<00:00,  4.91it/s]\n",
      "Uploading edges: 100%|██████████| 740/740 [01:54<00:00,  6.49it/s]\n"
     ]
    }
   ],
   "source": [
    "rag.neo4j.clear_db()\n",
    "rag.neo4j.add_node_to_db(node_path, layer=\"A\", type=\"EntityA\")\n",
    "rag.neo4j.add_edge_to_db(edge_path, layer=\"A\", type=\"EntityA\")"
   ]
  },
  {
   "cell_type": "code",
   "execution_count": 35,
   "metadata": {},
   "outputs": [],
   "source": [
    "sys = \"\"\"\n",
    "You are a assistant of a Medical professor.\n",
    "Your response should be wise and concise and as quick as possible.\n",
    "If you dont know, just say.\n",
    "\"\"\""
   ]
  },
  {
   "cell_type": "code",
   "execution_count": 36,
   "metadata": {},
   "outputs": [],
   "source": [
    "user = \"\"\"\n",
    "What are the most effective strategies for managing progressive thoracic insufficiency in patients with fibrodysplasia ossificans progressiva(FOP)?\n",
    "\"\"\"\n",
    "user = \"\"\"\"\n",
    "If you are an doctor, what instruction will you give to handle heart failure in baby situation.\n",
    "\"\"\""
   ]
  },
  {
   "cell_type": "code",
   "execution_count": 37,
   "metadata": {},
   "outputs": [
    {
     "name": "stdout",
     "output_type": "stream",
     "text": [
      "Retrieve\n",
      "2025-03-29 10:32:11,186 - neo4j.notifications - WARNING - Received notification from DBMS server: {severity: WARNING} {code: Neo.ClientNotification.Statement.FeatureDeprecationWarning} {category: DEPRECATION} {title: This feature is deprecated and will be removed in future versions.} {description: The query used a deprecated function: `id`.} {position: line: 5, column: 15, offset: 143} for query: '\\n        MATCH (n:EntityA)-[r:RELATIONSHIP]-(m:EntityA)\\n        WHERE n.layer = $layer AND m.layer = $layer\\n        WITH n, m, r\\n        WHERE id(n) < id(m)\\n        RETURN n, r, m\\n        '\n",
      "2025-03-29 10:32:11,187 - neo4j.notifications - WARNING - Received notification from DBMS server: {severity: WARNING} {code: Neo.ClientNotification.Statement.FeatureDeprecationWarning} {category: DEPRECATION} {title: This feature is deprecated and will be removed in future versions.} {description: The query used a deprecated function: `id`.} {position: line: 5, column: 23, offset: 151} for query: '\\n        MATCH (n:EntityA)-[r:RELATIONSHIP]-(m:EntityA)\\n        WHERE n.layer = $layer AND m.layer = $layer\\n        WITH n, m, r\\n        WHERE id(n) < id(m)\\n        RETURN n, r, m\\n        '\n"
     ]
    },
    {
     "name": "stderr",
     "output_type": "stream",
     "text": [
      "Rating Context: 100%|██████████| 68/68 [00:26<00:00,  2.60it/s]\n"
     ]
    },
    {
     "name": "stdout",
     "output_type": "stream",
     "text": [
      "RESPONSE:As a doctor, if I'm dealing with heart failure in a baby situation, my primary concern is to quickly identify the underlying cause and stabilize the infant. Here's what I would instruct:\n",
      "\n",
      "1. **Immediate medical attention**: If you suspect heart failure in an infant, seek immediate medical attention from a pediatrician or cardiologist.\n",
      "2. **Monitor vital signs**: Keep track of the infant's breathing rate, pulse, oxygen saturation levels, and blood pressure to assess the severity of the condition.\n",
      "3. **Diagnosis**: Order diagnostic tests such as an echocardiogram (four-chamber view) to visualize the heart structures and function, and possibly an ammonia scan to measure acid levels in the bloodstream.\n",
      "4. **Assess for underlying conditions**: Consider potential causes like chronic myocardial ischemia or sleep apnea, which can trigger heart failure in infants.\n",
      "5. **Stabilization**: If the infant is experiencing respiratory distress, provide oxygen therapy as needed. For severe cases, hospital admission and intensive care may be required to manage symptoms and prevent further complications.\n",
      "\n",
      "It's essential to note that every infant with suspected heart failure requires a thorough evaluation and individualized treatment plan.\n"
     ]
    }
   ],
   "source": [
    "print(rag.Generate(sys, user))"
   ]
  }
 ],
 "metadata": {
  "kernelspec": {
   "display_name": "Python 3",
   "language": "python",
   "name": "python3"
  },
  "language_info": {
   "codemirror_mode": {
    "name": "ipython",
    "version": 3
   },
   "file_extension": ".py",
   "mimetype": "text/x-python",
   "name": "python",
   "nbconvert_exporter": "python",
   "pygments_lexer": "ipython3",
   "version": "3.11.0"
  }
 },
 "nbformat": 4,
 "nbformat_minor": 2
}
